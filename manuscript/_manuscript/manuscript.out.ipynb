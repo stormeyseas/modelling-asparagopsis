{
 "cells": [
  {
   "cell_type": "markdown",
   "metadata": {},
   "source": [
    "# Investigating the bioremediation potential of seaweed aquaculture\n",
    "\n",
    "across Australia"
   ],
   "id": "d7de98b0-621f-471e-8ee8-df87aa2127cf"
  },
  {
   "cell_type": "code",
   "execution_count": null,
   "metadata": {
    "layout-align": "center"
   },
   "outputs": [
    {
     "output_type": "stream",
     "name": "stderr",
     "text": [
      "Warning: package 'units' was built under R version 4.4.3"
     ]
    },
    {
     "output_type": "stream",
     "name": "stderr",
     "text": [
      "udunits database from C:/Users/treimer/AppData/Local/R/cache/R/renv/cache/v5/windows/R-4.4/x86_64-w64-mingw32/units/0.8-7/5d0b024902d5da97a2b64f002e92a869/units/share/udunits/udunits2.xml"
     ]
    },
    {
     "output_type": "stream",
     "name": "stderr",
     "text": [
      "Warning: package 'targets' was built under R version 4.4.3"
     ]
    },
    {
     "output_type": "stream",
     "name": "stderr",
     "text": [
      "Warning: package 'tarchetypes' was built under R version 4.4.3"
     ]
    },
    {
     "output_type": "stream",
     "name": "stderr",
     "text": [
      "Warning: package 'arrow' was built under R version 4.4.3"
     ]
    },
    {
     "output_type": "stream",
     "name": "stderr",
     "text": [
      "\n",
      "Attaching package: 'arrow'"
     ]
    },
    {
     "output_type": "stream",
     "name": "stderr",
     "text": [
      "The following object is masked from 'package:utils':\n",
      "\n",
      "    timestamp"
     ]
    },
    {
     "output_type": "stream",
     "name": "stderr",
     "text": [
      "Loading required package: ggplot2"
     ]
    },
    {
     "output_type": "stream",
     "name": "stderr",
     "text": [
      "Warning: package 'ggplot2' was built under R version 4.4.3"
     ]
    },
    {
     "output_type": "stream",
     "name": "stderr",
     "text": [
      "\n",
      "Attaching package: 'magrittr'"
     ]
    },
    {
     "output_type": "stream",
     "name": "stderr",
     "text": [
      "The following object is masked from 'package:arrow':\n",
      "\n",
      "    is_in"
     ]
    },
    {
     "output_type": "stream",
     "name": "stderr",
     "text": [
      "\n",
      "Attaching package: 'dplyr'"
     ]
    },
    {
     "output_type": "stream",
     "name": "stderr",
     "text": [
      "The following objects are masked from 'package:stats':\n",
      "\n",
      "    filter, lag"
     ]
    },
    {
     "output_type": "stream",
     "name": "stderr",
     "text": [
      "The following objects are masked from 'package:base':\n",
      "\n",
      "    intersect, setdiff, setequal, union"
     ]
    },
    {
     "output_type": "stream",
     "name": "stderr",
     "text": [
      "terra 1.8.42"
     ]
    },
    {
     "output_type": "stream",
     "name": "stderr",
     "text": [
      "\n",
      "Attaching package: 'terra'"
     ]
    },
    {
     "output_type": "stream",
     "name": "stderr",
     "text": [
      "The following objects are masked from 'package:magrittr':\n",
      "\n",
      "    extract, inset"
     ]
    },
    {
     "output_type": "stream",
     "name": "stderr",
     "text": [
      "The following object is masked from 'package:gganimate':\n",
      "\n",
      "    animate"
     ]
    },
    {
     "output_type": "stream",
     "name": "stderr",
     "text": [
      "The following object is masked from 'package:arrow':\n",
      "\n",
      "    buffer"
     ]
    },
    {
     "output_type": "stream",
     "name": "stderr",
     "text": [
      "Warning: package 'tidyterra' was built under R version 4.4.3"
     ]
    },
    {
     "output_type": "stream",
     "name": "stderr",
     "text": [
      "\n",
      "Attaching package: 'tidyterra'"
     ]
    },
    {
     "output_type": "stream",
     "name": "stderr",
     "text": [
      "The following object is masked from 'package:stats':\n",
      "\n",
      "    filter"
     ]
    },
    {
     "output_type": "stream",
     "name": "stderr",
     "text": [
      "here() starts at C:/Users/treimer/Documents/R-temp-files/modelling-asparagopsis"
     ]
    },
    {
     "output_type": "stream",
     "name": "stderr",
     "text": [
      "\n",
      "Attaching package: 'lubridate'"
     ]
    },
    {
     "output_type": "stream",
     "name": "stderr",
     "text": [
      "The following objects are masked from 'package:terra':\n",
      "\n",
      "    intersect, union"
     ]
    },
    {
     "output_type": "stream",
     "name": "stderr",
     "text": [
      "The following object is masked from 'package:arrow':\n",
      "\n",
      "    duration"
     ]
    },
    {
     "output_type": "stream",
     "name": "stderr",
     "text": [
      "The following objects are masked from 'package:base':\n",
      "\n",
      "    date, intersect, setdiff, union"
     ]
    },
    {
     "output_type": "stream",
     "name": "stderr",
     "text": [
      "\n",
      "Attaching package: 'tidyr'"
     ]
    },
    {
     "output_type": "stream",
     "name": "stderr",
     "text": [
      "The following object is masked from 'package:terra':\n",
      "\n",
      "    extract"
     ]
    },
    {
     "output_type": "stream",
     "name": "stderr",
     "text": [
      "The following object is masked from 'package:magrittr':\n",
      "\n",
      "    extract"
     ]
    },
    {
     "output_type": "stream",
     "name": "stderr",
     "text": [
      "[conflicted] Will prefer dplyr::select over any other package."
     ]
    },
    {
     "output_type": "stream",
     "name": "stderr",
     "text": [
      "[conflicted] Will prefer dplyr::filter over any other package."
     ]
    }
   ],
   "source": [
    "# You need quarto to generate this markdown - install here: https://quarto.org/docs/get-started/\n",
    "# This markdown uses the acronyms extension - install by entering quarto add rchaput/acronyms@master into the terminal\n",
    "# This markdown uses TinyTex for PDF rendering - install with tinytex::install_tinytex()\n",
    "\n",
    "library(stringr)\n",
    "library(units)"
   ],
   "id": "5152400d-1364-41ab-af0c-f65e332276e4"
  },
  {
   "cell_type": "code",
   "execution_count": null,
   "metadata": {
    "layout-align": "center"
   },
   "outputs": [],
   "source": [
    "# source(file.path(base_path, \"R\", \"other-functions.R\"))\n",
    "spec_store <- here() %>% file.path(\"targets_outputs\", \"_species\")\n",
    "cell_store <- here() %>% file.path(\"targets_outputs\", \"_model_running_TAS\")\n",
    "spec_data <- here() %>% file.path(\"data\", \"processed_species\")\n",
    "cell_data <- here() %>% file.path(\"data\", \"processed_cell_data\")\n",
    "runs_data <- here() %>% file.path(\"data\", \"processed_model_running\")\n",
    "\n",
    "bounds <- tar_read(states_bbox, store = cell_store)\n",
    "\n",
    "prettyplot <- theme_classic() +\n",
    "  theme(text = element_text(family = \"sans\", size = 12, colour = \"black\"),\n",
    "        axis.title = element_text(vjust = 2),\n",
    "        legend.position = \"none\")\n",
    "\n",
    "env_plot <- prettyplot +\n",
    "  theme(legend.position = \"none\",\n",
    "        aspect.ratio = 0.55,\n",
    "        text = element_text(family = \"sans\", size = 11, colour = \"black\"))\n",
    "\n",
    "nitrogen_lab <- expression(\"Concentration (\"*mu*\"M N)\")\n",
    "nitrate_lab <- expression(\"Nitrate concentration (\"*mu*\"M NO\"[3]*\")\")\n",
    "ammonium_lab <- expression(\"Ammonium concentration (\"*mu*\"M NH\"[4]^+\")\")\n",
    "\n",
    "# Allows using \"units\" package to convert between moles and g of nitrogen ONLY\n",
    "remove_unit(\"mol\")\n",
    "install_unit(\"mol\", \"14.0067 g\")\n",
    "\n",
    "prettynum <- function(num, sigfig=2) {format(round(as.numeric(num), sigfig), nsmall=1, big.mark=\",\")}\n",
    "\n",
    "species_pal <- c(\"red3\", \"dodgerblue3\")\n",
    "depths_pal <- c(\"green3\", \"#FF8247\", \"dodgerblue3\", \"#292928\")\n",
    "states_pal <- c(\"#d95f02\", \"#e6ab02\", \"#7570b3\", \"#1b9e77\", \"#66a61e\", \"#e7298a\", \"#a6761d\", \"#666666\")\n",
    "scens_pal_1 <- c(\"#292928\", \"dodgerblue3\", \"#66a61e\", \"#e7298a\", \"#e6ab02\")\n",
    "scens_pal_2 <- c(\"dodgerblue3\", \"#66a61e\", \"#e7298a\", \"#e6ab02\")\n",
    "states_pal_2 <- c(states_pal, \"black\")\n",
    "states <- tar_read(states, store = cell_store)\n",
    "states_ord <- c(\"NTE\", \"QLD\", \"NSW\", \"SAU\", \"TAS\", \"VIC\", \"WAN\", \"WAS\")\n",
    "states_lng <- c(\"Northern Territory\", \"Queensland\", \"New South Wales\", \"South Australia\", \"Tasmania\", \"Victoria\", \"Western Australia (N)\", \"Western Australia (S)\")"
   ],
   "id": "a7e47f25-707c-4409-9c53-e0fed54f66f8"
  },
  {
   "cell_type": "markdown",
   "metadata": {},
   "source": [
    "# Methods"
   ],
   "id": "cdbd6e27-7dca-4f62-97fd-63f9305b7131"
  },
  {
   "cell_type": "code",
   "execution_count": null,
   "metadata": {
    "layout-align": "center"
   },
   "outputs": [],
   "source": [
    "cell_coords <- tar_read(BARRA_C2_cell_coords, store = cell_store) %>% \n",
    "  mutate(state = factor(state, levels = states_ord)) %>% \n",
    "  dplyr::select(-layer)\n",
    "\n",
    "totals <- cell_coords %>% \n",
    "  group_by(state) %>% \n",
    "  reframe(cells = n())"
   ],
   "id": "9c07b865-385a-4b2c-b966-f1ee5aaf9280"
  },
  {
   "cell_type": "markdown",
   "metadata": {},
   "source": [
    "There were a total of 95418 cells used in this analysis: 5045 in Victoria, 5480 in New South Wales, 21956 in Queensland, 11451 in South Australia, 29062 in Western Australia (divided into 13794 cells in the north and 15268 in the south), 10185 in Tasmania, and 12239 in the Northern Territory."
   ],
   "id": "d3c18035-c6b6-43fd-a853-9a33dd6fb489"
  },
  {
   "cell_type": "code",
   "execution_count": null,
   "metadata": {
    "layout-align": "center"
   },
   "outputs": [
    {
     "output_type": "display_data",
     "metadata": {},
     "data": {}
    }
   ],
   "source": [
    "ggplot(cell_coords, aes(x = longitude, y = latitude, fill = state)) +\n",
    "  geom_raster() +\n",
    "  geom_sf(data = ozmap_data(data = \"states\"), inherit.aes = F) +\n",
    "  coord_sf(xlim = c(bounds[[\"AUS\"]][\"lonmin\"], bounds[[\"AUS\"]][\"lonmax\"]),\n",
    "           ylim = c(bounds[[\"AUS\"]][\"latmin\"], bounds[[\"AUS\"]][\"latmax\"])) +\n",
    "  scale_x_continuous(breaks = seq(100, 160, 5)) +\n",
    "  scale_y_continuous(breaks = seq(-5, -45, -5)) +\n",
    "  scale_color_brewer(palette = \"Dark2\") +\n",
    "  scale_fill_brewer(palette = \"Dark2\") +\n",
    "  labs(x = \"Longitude\", y = \"Latitude\") +\n",
    "  prettyplot +\n",
    "  theme(legend.position = \"none\")"
   ],
   "id": "cell-fig-states-map"
  },
  {
   "cell_type": "markdown",
   "metadata": {},
   "source": [
    "## Environmental inputs"
   ],
   "id": "9f46c061-1288-4f5d-a77d-a3524aac43f1"
  },
  {
   "cell_type": "code",
   "execution_count": null,
   "metadata": {
    "layout-align": "center"
   },
   "outputs": [],
   "source": [
    "cell_input_timeseries <- list(\n",
    "  here() %>% file.path(\"data\", \"processed_cell_data\", \"cell_input_timeseries_TAS.parquet\") %>% read_parquet(),\n",
    "  here() %>% file.path(\"data\", \"processed_cell_data\", \"cell_input_timeseries_VIC.parquet\") %>% read_parquet(),\n",
    "  here() %>% file.path(\"data\", \"processed_cell_data\", \"cell_input_timeseries_NTE.parquet\") %>% read_parquet(),\n",
    "  here() %>% file.path(\"data\", \"processed_cell_data\", \"cell_input_timeseries_QLD.parquet\") %>% read_parquet(),\n",
    "  here() %>% file.path(\"data\", \"processed_cell_data\", \"cell_input_timeseries_SAU.parquet\") %>% read_parquet(),\n",
    "  here() %>% file.path(\"data\", \"processed_cell_data\", \"cell_input_timeseries_WAN.parquet\") %>% read_parquet(),\n",
    "  here() %>% file.path(\"data\", \"processed_cell_data\", \"cell_input_timeseries_WAS.parquet\") %>% read_parquet(),\n",
    "  here() %>% file.path(\"data\", \"processed_cell_data\", \"cell_input_timeseries_NSW.parquet\") %>% read_parquet()\n",
    "  ) %>% \n",
    "  bind_rows() %>% \n",
    "  mutate(state = factor(state, levels = states_ord, labels = states_lng))"
   ],
   "id": "8a55dd3f-9733-4828-b2c2-cda8d9e4d13f"
  },
  {
   "cell_type": "code",
   "execution_count": null,
   "metadata": {
    "layout-align": "center"
   },
   "outputs": [
    {
     "output_type": "stream",
     "name": "stdout",
     "text": [
      "# A tibble: 8 × 5\n",
      "  state                  mean   max   min variable\n",
      "  <fct>                 <dbl> <dbl> <dbl> <chr>   \n",
      "1 Northern Territory     28.5  37.9 18.9  T_input \n",
      "2 Queensland             26.5  36.1 12.6  T_input \n",
      "3 New South Wales        21.6  30.8  7.77 T_input \n",
      "4 South Australia        17.1  31.8  7.12 T_input \n",
      "5 Tasmania               15.0  24.3  3.95 T_input \n",
      "6 Victoria               15.9  29.7  6.48 T_input \n",
      "7 Western Australia (N)  27.5  40.9 17.3  T_input \n",
      "8 Western Australia (S)  20.2  38.7  9.02 T_input "
     ]
    }
   ],
   "source": [
    "T_input <- cell_input_timeseries %>% \n",
    "  select(cell_no, state, yday, T_input)\n",
    "\n",
    "(T_means <- T_input %>% \n",
    "  group_by(state) %>% \n",
    "  reframe(mean = mean(T_input, na.rm = T),\n",
    "          max = max(T_input, na.rm = T),\n",
    "          min = min(T_input, na.rm = T)) %>% \n",
    "  mutate(variable = \"T_input\"))"
   ],
   "id": "cc9f14bb-38aa-4b8f-9751-6a72b97e6e4a"
  },
  {
   "cell_type": "markdown",
   "metadata": {},
   "source": [
    "Mean daily temperature ranged from 15 in Tasmania to 28.5 in Northern Territory, with a mean across states of 21.5."
   ],
   "id": "89fe5c3c-b164-473a-b03f-e12531aeffd5"
  },
  {
   "cell_type": "code",
   "execution_count": null,
   "metadata": {
    "layout-align": "center"
   },
   "outputs": [
    {
     "output_type": "display_data",
     "metadata": {},
     "data": {}
    }
   ],
   "source": [
    "T_input_state <- T_input %>%\n",
    "  group_by(state, yday) %>% \n",
    "  reframe(value = mean(T_input, na.rm = T),\n",
    "          sd = sd(T_input, na.rm = T))\n",
    "\n",
    "(\n",
    "  p_input_state_av <- T_input_state %>% \n",
    "    ggplot(aes(x = yday, y = value, ymin = value-sd, ymax = value+sd, colour = state, fill = state)) +\n",
    "    geom_line(linewidth = 0.75) +\n",
    "    geom_ribbon(alpha = 0.35, linewidth = 0.25) +\n",
    "    facet_wrap(facets = vars(state), ncol = 2) +\n",
    "    scale_y_continuous(breaks = seq(0, 40, 5), limits = c(10, 35)) +\n",
    "    scale_fill_brewer(palette = \"Dark2\") +\n",
    "    scale_color_brewer(palette = \"Dark2\") +\n",
    "    env_plot +\n",
    "    labs(x = \"Day of the year\", y = expression(\"Temperature (\"*degree*\"C)\"))\n",
    ")"
   ],
   "id": "cell-fig-T-input"
  },
  {
   "cell_type": "code",
   "execution_count": null,
   "metadata": {
    "layout-align": "center"
   },
   "outputs": [
    {
     "output_type": "stream",
     "name": "stdout",
     "text": [
      "# A tibble: 8 × 5\n",
      "  state                  mean   max   min variable\n",
      "  <fct>                 <dbl> <dbl> <dbl> <chr>   \n",
      "1 Northern Territory     372.  639.  5.04 I_input \n",
      "2 Queensland             314.  655. 14.1  I_input \n",
      "3 New South Wales        269.  650. 14.1  I_input \n",
      "4 South Australia        267.  734.  6.70 I_input \n",
      "5 Tasmania               193.  696.  2.98 I_input \n",
      "6 Victoria               218.  678.  5.78 I_input \n",
      "7 Western Australia (N)  449.  705. 31.8  I_input \n",
      "8 Western Australia (S)  303.  736.  8.17 I_input "
     ]
    }
   ],
   "source": [
    "I_input <- cell_input_timeseries %>% \n",
    "  select(cell_no, state, yday, I_input)\n",
    "\n",
    "(I_means <- I_input %>% \n",
    "  group_by(state) %>% \n",
    "  reframe(mean = mean(I_input, na.rm = T),\n",
    "          max = max(I_input, na.rm = T),\n",
    "          min = min(I_input, na.rm = T)) %>% \n",
    "  mutate(variable = \"I_input\"))"
   ],
   "id": "04a26217-24e5-4387-b7fd-fcc8b5ca70a1"
  },
  {
   "cell_type": "markdown",
   "metadata": {},
   "source": [
    "Mean daily irradiance ranged from 193 in Tasmania to 449 in Western Australia (N), with a mean across states of 298."
   ],
   "id": "d317f071-6a28-4935-b899-647461bdc755"
  },
  {
   "cell_type": "code",
   "execution_count": null,
   "metadata": {
    "layout-align": "center"
   },
   "outputs": [
    {
     "output_type": "stream",
     "name": "stderr",
     "text": [
      "Scale for y is already present.\n",
      "Adding another scale for y, which will replace the existing scale."
     ]
    },
    {
     "output_type": "display_data",
     "metadata": {},
     "data": {}
    }
   ],
   "source": [
    "I_input_state <- I_input %>%\n",
    "  group_by(state, yday) %>% \n",
    "  reframe(value = mean(I_input, na.rm = T),\n",
    "          sd = sd(I_input, na.rm = T))\n",
    "\n",
    "p_input_state_av %+% I_input_state +\n",
    "  scale_y_continuous(breaks = seq(0, 1600, 150), limits = c(0, 750)) +\n",
    "  labs(x = \"Day of the year\", y = expression(\"Irradiance (photons m\"^-2*\" s\"^-1*\")\")) "
   ],
   "id": "cell-fig-I-input"
  },
  {
   "cell_type": "code",
   "execution_count": null,
   "metadata": {
    "layout-align": "center"
   },
   "outputs": [
    {
     "output_type": "stream",
     "name": "stdout",
     "text": [
      "# A tibble: 8 × 5\n",
      "  state                  mean   max   min variable\n",
      "  <fct>                 <dbl> <dbl> <dbl> <chr>   \n",
      "1 Northern Territory     34.5  35.6  32.8 S_input \n",
      "2 Queensland             35.0  35.9  32.9 S_input \n",
      "3 New South Wales        35.5  35.7  35.1 S_input \n",
      "4 South Australia        35.9  37.2  35.2 S_input \n",
      "5 Tasmania               35.4  35.7  34.9 S_input \n",
      "6 Victoria               35.5  35.8  35.3 S_input \n",
      "7 Western Australia (N)  34.9  35.9  34.2 S_input \n",
      "8 Western Australia (S)  35.7  36.4  35.0 S_input "
     ]
    }
   ],
   "source": [
    "S_input <- cell_input_timeseries %>% \n",
    "  select(cell_no, state, yday, S_input)\n",
    "\n",
    "(S_means <- S_input %>% \n",
    "  group_by(state) %>% \n",
    "  reframe(mean = mean(S_input, na.rm = T),\n",
    "          max = max(S_input, na.rm = T),\n",
    "          min = min(S_input, na.rm = T)) %>% \n",
    "  mutate(variable = \"S_input\"))"
   ],
   "id": "f1a119ec-8377-4cf3-b48c-07f8171dc9c9"
  },
  {
   "cell_type": "markdown",
   "metadata": {},
   "source": [
    "Mean daily salinity ranged from 34.5 in Northern Territory to 35.9 in South Australia, with a mean across states of 35.3."
   ],
   "id": "c4910734-6026-4f08-a51a-d87e491fa0ae"
  },
  {
   "cell_type": "code",
   "execution_count": null,
   "metadata": {
    "layout-align": "center"
   },
   "outputs": [
    {
     "output_type": "stream",
     "name": "stderr",
     "text": [
      "Scale for y is already present.\n",
      "Adding another scale for y, which will replace the existing scale."
     ]
    },
    {
     "output_type": "display_data",
     "metadata": {},
     "data": {}
    }
   ],
   "source": [
    "S_input_state <- S_input %>%\n",
    "  group_by(state, yday) %>% \n",
    "  reframe(value = mean(S_input, na.rm = T),\n",
    "          sd = sd(S_input, na.rm = T))\n",
    "\n",
    "p_input_state_av %+% S_input_state +\n",
    "  scale_y_continuous(breaks = seq(30, 40, 0.5), limits = c(34, 36.5)) +\n",
    "  labs(x = \"Day of the year\", y = expression(\"Salinity (g L\"^-1*\")\"))"
   ],
   "id": "cell-fig-S-input"
  },
  {
   "cell_type": "code",
   "execution_count": null,
   "metadata": {
    "layout-align": "center"
   },
   "outputs": [
    {
     "output_type": "stream",
     "name": "stdout",
     "text": [
      "# A tibble: 8 × 5\n",
      "  state                   mean   max       min variable\n",
      "  <fct>                  <dbl> <dbl>     <dbl> <chr>   \n",
      "1 Northern Territory    0.0641 0.348 0.0000366 UV_input\n",
      "2 Queensland            0.145  1.06  0.0000336 UV_input\n",
      "3 New South Wales       0.357  1.46  0.000455  UV_input\n",
      "4 South Australia       0.0798 0.689 0.0000366 UV_input\n",
      "5 Tasmania              0.0871 0.622 0.0000262 UV_input\n",
      "6 Victoria              0.0971 0.785 0.000114  UV_input\n",
      "7 Western Australia (N) 0.0687 0.559 0.0000110 UV_input\n",
      "8 Western Australia (S) 0.139  0.843 0.0000548 UV_input"
     ]
    }
   ],
   "source": [
    "UV_input <- cell_input_timeseries %>% \n",
    "  select(cell_no, state, yday, UV_input)\n",
    "\n",
    "(UV_means <- UV_input %>% \n",
    "  group_by(state) %>% \n",
    "  reframe(mean = mean(UV_input, na.rm = T),\n",
    "          max = max(UV_input, na.rm = T),\n",
    "          min = min(UV_input, na.rm = T)) %>% \n",
    "  mutate(variable = \"UV_input\"))"
   ],
   "id": "a3c77a32-3173-4189-8224-ad5a80a7f2fd"
  },
  {
   "cell_type": "markdown",
   "metadata": {},
   "source": [
    "Mean daily water velocity ranged from 0.06 in Northern Territory to 0.36 in New South Wales, with a mean across states of 0.13."
   ],
   "id": "b8c75005-0ab9-488a-bcc6-86a2e5fa8b27"
  },
  {
   "cell_type": "code",
   "execution_count": null,
   "metadata": {
    "layout-align": "center"
   },
   "outputs": [
    {
     "output_type": "display_data",
     "metadata": {},
     "data": {}
    }
   ],
   "source": [
    "UV_input_state <- UV_input %>%\n",
    "  group_by(state, yday) %>% \n",
    "  reframe(value = mean(UV_input, na.rm = T),\n",
    "          sd = sd(UV_input, na.rm = T)) %>% \n",
    "  mutate(sd_min = case_when(sd > value ~ value, T ~ sd))\n",
    "\n",
    "(\n",
    "  p_input_state_av <- UV_input_state %>% \n",
    "    ggplot(aes(x = yday, y = value, ymin = value-sd_min, ymax = value+sd, colour = state, fill = state)) +\n",
    "    geom_line(linewidth = 0.75) +\n",
    "    geom_ribbon(alpha = 0.35, linewidth = 0.25) +\n",
    "    facet_wrap(facets = vars(state), ncol = 2) +\n",
    "    scale_y_continuous(breaks = seq(0, 1, 0.2), limits = c(-0.01, 1)) +\n",
    "    scale_fill_brewer(palette = \"Dark2\") +\n",
    "    scale_color_brewer(palette = \"Dark2\") +\n",
    "    env_plot +\n",
    "    labs(x = \"Day of the year\", y = expression(\"Water velocity (m s\"^-1*\")\"))\n",
    ")"
   ],
   "id": "cell-fig-UV-input"
  },
  {
   "cell_type": "markdown",
   "metadata": {},
   "source": [
    "## Nitrogen"
   ],
   "id": "7ee52627-3f93-4c14-bb93-a20298b05d35"
  },
  {
   "cell_type": "code",
   "execution_count": null,
   "metadata": {
    "layout-align": "center"
   },
   "outputs": [],
   "source": [
    "refstation_locations <- here() %>% \n",
    "  file.path(\"data\", \"nitrogen\", \"refstation_locations.parquet\") %>% \n",
    "  arrow::read_parquet() %>% \n",
    "  mutate(state = case_when(\n",
    "    lon > bounds[[\"SAU\"]][\"lonmin\"] & lon <= bounds[[\"SAU\"]][\"lonmax\"] & \n",
    "      lat > bounds[[\"SAU\"]][\"latmin\"] & lat <= bounds[[\"SAU\"]][\"latmax\"]  ~ \"SAU\",\n",
    "    lon > bounds[[\"QLD\"]][\"lonmin\"] & lon <= bounds[[\"QLD\"]][\"lonmax\"] & \n",
    "      lat > bounds[[\"QLD\"]][\"latmin\"] & lat <= bounds[[\"QLD\"]][\"latmax\"]  ~ \"QLD\",\n",
    "    lon > bounds[[\"WAS\"]][\"lonmin\"] & lon <= bounds[[\"WAS\"]][\"lonmax\"] & \n",
    "      lat > bounds[[\"WAS\"]][\"latmin\"] & lat <= bounds[[\"WAS\"]][\"latmax\"]  ~ \"WAS\",\n",
    "    lon > bounds[[\"WAN\"]][\"lonmin\"] & lon <= bounds[[\"WAN\"]][\"lonmax\"] & \n",
    "      lat > bounds[[\"WAN\"]][\"latmin\"] & lat <= bounds[[\"WAN\"]][\"latmax\"]  ~ \"WAN\",\n",
    "    lon > bounds[[\"VIC\"]][\"lonmin\"] & lon <= bounds[[\"VIC\"]][\"lonmax\"] & \n",
    "      lat > bounds[[\"VIC\"]][\"latmin\"] & lat <= bounds[[\"VIC\"]][\"latmax\"]  ~ \"VIC\",\n",
    "    lon > bounds[[\"NSW\"]][\"lonmin\"] & lon <= bounds[[\"NSW\"]][\"lonmax\"] & \n",
    "      lat > bounds[[\"NSW\"]][\"latmin\"] & lat <= bounds[[\"NSW\"]][\"latmax\"]  ~ \"NSW\",\n",
    "    lon > bounds[[\"NTE\"]][\"lonmin\"] & lon <= bounds[[\"NTE\"]][\"lonmax\"] & \n",
    "      lat > bounds[[\"NTE\"]][\"latmin\"] & lat <= bounds[[\"NTE\"]][\"latmax\"]  ~ \"NTE\",\n",
    "    lon > bounds[[\"TAS\"]][\"lonmin\"] & lon <= bounds[[\"TAS\"]][\"lonmax\"] & \n",
    "      lat > bounds[[\"TAS\"]][\"latmin\"] & lat <= bounds[[\"TAS\"]][\"latmax\"]  ~ \"TAS\",\n",
    "    TRUE ~ NA\n",
    "  ),\n",
    "  state = factor(state, levels = states_ord)) %>% \n",
    "  rename(latitude = lat, longitude = lon, name = StationName) %>% \n",
    "  dplyr::select(-code) %>% \n",
    "  relocate(state, .before = name)\n",
    "\n",
    "outfall_locations <- here() %>% \n",
    "  file.path(\"data_raw\", \"national-outfall-database\", \"data-output\", \"outflow_site_locations.parquet\") %>% \n",
    "  arrow::read_parquet() %>% \n",
    "  mutate(state = factor(state, levels = states_ord)) %>% \n",
    "  relocate(state, .before = name)\n",
    "\n",
    "N_locations <- rbind(\n",
    "  outfall_locations %>% mutate(type = \"outfall\"),\n",
    "  refstation_locations %>% mutate(type = \"refstation\")\n",
    ")"
   ],
   "id": "3c0dc354-6d45-4252-a2eb-6097e957ba15"
  },
  {
   "cell_type": "code",
   "execution_count": null,
   "metadata": {
    "layout-align": "center"
   },
   "outputs": [
    {
     "output_type": "display_data",
     "metadata": {},
     "data": {}
    }
   ],
   "source": [
    "ggplot(N_locations, aes(x = longitude, y = latitude, color = state, shape = type)) +\n",
    "  geom_sf(data = ozmap_data(data = \"states\"), inherit.aes = F) +\n",
    "  coord_sf(xlim = c(bounds[[\"AUS\"]][\"lonmin\"], bounds[[\"AUS\"]][\"lonmax\"]),\n",
    "           ylim = c(bounds[[\"AUS\"]][\"latmin\"], bounds[[\"AUS\"]][\"latmax\"])) +\n",
    "  geom_point(size = 3.5) +\n",
    "  scale_shape_manual(values = c(20, 8)) +\n",
    "  # scale_colour_manual(values = states_pal, labels = states_lng, na.value = \"black\") +\n",
    "  scale_color_brewer(palette = \"Dark2\") +\n",
    "  scale_x_continuous(breaks = seq(100, 160, 5)) +\n",
    "  scale_y_continuous(breaks = seq(-5, -45, -5)) +\n",
    "  labs(x = \"Longitude\", y = \"Latitude\") +\n",
    "  prettyplot +\n",
    "  theme(legend.position = \"none\")"
   ],
   "id": "cell-fig-N-data-locations"
  },
  {
   "cell_type": "code",
   "execution_count": null,
   "metadata": {
    "layout-align": "center"
   },
   "outputs": [],
   "source": [
    "refstation_cell_match <- list(\n",
    "  file.path(cell_data, \"refstation_cell_match_NTE.parquet\") %>% arrow::read_parquet(),\n",
    "  file.path(cell_data, \"refstation_cell_match_TAS.parquet\") %>% arrow::read_parquet(),\n",
    "  file.path(cell_data, \"refstation_cell_match_VIC.parquet\") %>% arrow::read_parquet(),\n",
    "  file.path(cell_data, \"refstation_cell_match_QLD.parquet\") %>% arrow::read_parquet(),\n",
    "  file.path(cell_data, \"refstation_cell_match_SAU.parquet\") %>% arrow::read_parquet(),\n",
    "  file.path(cell_data, \"refstation_cell_match_WAN.parquet\") %>% arrow::read_parquet(),\n",
    "  file.path(cell_data, \"refstation_cell_match_WAS.parquet\") %>% arrow::read_parquet(),\n",
    "  file.path(cell_data, \"refstation_cell_match_NSW.parquet\") %>% arrow::read_parquet()\n",
    "  ) %>% \n",
    "  bind_rows() %>% \n",
    "  group_by(StationName) %>% \n",
    "  reframe(num_cells = n())"
   ],
   "id": "455284a8-3f19-45d3-b8b4-7be9f51f1055"
  },
  {
   "cell_type": "markdown",
   "metadata": {},
   "source": [
    "Matching model cells to their two nearest reference stations resulted in 40.77% cells using data from Darwin, 31.01% from Kangaroo Island, 24.72% from Maria Island, 15.84% from North Stradbroke Island, 20.6% from Port Hacking, 31.04% from Rottnest Island, and 36.03% from Yongala."
   ],
   "id": "5870476e-0b95-4d71-8341-f2c43364e5e8"
  },
  {
   "cell_type": "code",
   "execution_count": null,
   "metadata": {
    "layout-align": "center"
   },
   "outputs": [],
   "source": [
    "outfall_sites_cellpaired <- list(\n",
    "  file.path(cell_data, \"outfall_sites_cellpaired_NTE.parquet\") %>% arrow::read_parquet(),\n",
    "  file.path(cell_data, \"outfall_sites_cellpaired_TAS.parquet\") %>% arrow::read_parquet(),\n",
    "  file.path(cell_data, \"outfall_sites_cellpaired_VIC.parquet\") %>% arrow::read_parquet(),\n",
    "  file.path(cell_data, \"outfall_sites_cellpaired_QLD.parquet\") %>% arrow::read_parquet(),\n",
    "  file.path(cell_data, \"outfall_sites_cellpaired_SAU.parquet\") %>% arrow::read_parquet(),\n",
    "  file.path(cell_data, \"outfall_sites_cellpaired_WAN.parquet\") %>% arrow::read_parquet(),\n",
    "  file.path(cell_data, \"outfall_sites_cellpaired_WAS.parquet\") %>% arrow::read_parquet(),\n",
    "  file.path(cell_data, \"outfall_sites_cellpaired_NSW.parquet\") %>% arrow::read_parquet()\n",
    "  ) %>% \n",
    "  bind_rows() %>% \n",
    "  group_by(state, cell_no) %>% \n",
    "  reframe(matched = n())"
   ],
   "id": "d1d389d9-d0db-44f4-98f9-ca3d6e2e7c3c"
  },
  {
   "cell_type": "markdown",
   "metadata": {},
   "source": [
    "There were 8 outfall stations in South Australia, 9 in southern Western Australia, 4 in the Northern Territory, and 1 in northern Western Australia.\n",
    "\n",
    "Matching cells to outfall stations within 48 km resulted in 93.56% of cells using data from one outfall site, 2.93% of cells using data from two sites, 2.13% of cells using data from three sites, 0.72% of cells using data from four sites, 0.29% of cells using data from five sites, and 0.3% of cells using data from six sites. The remaining 0% of cells did not use data from any outfall sites."
   ],
   "id": "fd4fa29b-c89d-44bd-ba4d-2498272d92ea"
  },
  {
   "cell_type": "code",
   "execution_count": null,
   "metadata": {
    "layout-align": "center"
   },
   "outputs": [
    {
     "output_type": "stream",
     "name": "stderr",
     "text": [
      "Warning: Removed 5 rows containing missing values or values outside the scale range\n",
      "(`geom_point()`)."
     ]
    },
    {
     "output_type": "display_data",
     "metadata": {},
     "data": {}
    }
   ],
   "source": [
    "st <- here() %>% file.path(\"targets_outputs\", \"_model_running_NSW\")\n",
    "BARRA_C2_cell_nos <- tar_read(BARRA_C2_cell_nos, store = st)\n",
    "ind <- which(BARRA_C2_cell_nos == 753076)\n",
    "\n",
    "ref <- tar_read(refstation_cell_match, branches = ind, store = st)\n",
    "out <- tar_read(outfall_sites_cellpaired, branches = ind, store = st)\n",
    "\n",
    "Ni_data_prioritised <- tar_read(Ni_data_prioritised, store = st, branches = ind)[[1]][\"data\"][[1]] %>% \n",
    "  mutate(form = \"nitrate\")\n",
    "Am_data_prioritised <- tar_read(Am_data_prioritised, store = st, branches = ind)[[1]][\"data\"][[1]] %>% \n",
    "  mutate(form = \"ammonium\")\n",
    "cell_input <- tar_read(cell_input_timeseries, store = st, branches = ind) %>% \n",
    "  dplyr::select(c(yday, Ni_input, Am_input, cell_no)) %>% \n",
    "  pivot_longer(names_to = \"form\", values_to = \"value\", cols = c(Ni_input, Am_input)) %>% \n",
    "  mutate(form = factor(form, levels = c(\"Ni_input\", \"Am_input\"), labels = c(\"nitrate\", \"ammonium\")),\n",
    "         value = set_units(value, \"mg m-3\"),\n",
    "         value = set_units(value, \"umol L-1\"),\n",
    "         value = drop_units(value)) %>% \n",
    "  dplyr::filter(yday <= 365)\n",
    "\n",
    "df <- rbind(\n",
    "  Ni_data_prioritised, \n",
    "  Am_data_prioritised\n",
    ") %>%\n",
    "  mutate(value = set_units(value, \"mg m-3\"),\n",
    "         value = set_units(value, \"umol L-1\"),\n",
    "         value = drop_units(value),\n",
    "         form = factor(form, levels = c(\"nitrate\", \"ammonium\"))) %>% \n",
    "  filter(yday <= 365)\n",
    "  \n",
    "ggplot(df, aes(x = yday, y = value, fill = as.factor(data_source), colour = as.factor(data_source), size = weight)) +\n",
    "  geom_point(shape = 21, alpha = 0.35) +\n",
    "  facet_wrap(facets = vars(form), nrow = 2) +\n",
    "  geom_line(data = cell_input, aes(x = yday, y = value), inherit.aes = F) +\n",
    "  scale_fill_manual(values = c(\"orange\", \"steelblue\")) +\n",
    "  scale_colour_manual(values = c(\"orange\", \"steelblue\")) +\n",
    "  scale_y_continuous(limits = c(0, 3.5), breaks = seq(0, 4, 0.5)) +\n",
    "  env_plot +\n",
    "  theme(strip.text = element_blank()) +\n",
    "  labs(x = \"Day of the year\", y = nitrogen_lab)"
   ],
   "id": "cell-fig-example-N-input"
  },
  {
   "cell_type": "code",
   "execution_count": null,
   "metadata": {
    "layout-align": "center"
   },
   "outputs": [
    {
     "output_type": "stream",
     "name": "stdout",
     "text": [
      "# A tibble: 8 × 5\n",
      "  state                  mean   max         min variable\n",
      "  <fct>                 <dbl> <dbl>       <dbl> <chr>   \n",
      "1 Northern Territory     3.70 17.9  0.255       Ni_input\n",
      "2 Queensland             1.65 45.4  0.000000120 Ni_input\n",
      "3 New South Wales        9.24 68.7  0           Ni_input\n",
      "4 South Australia        6.32 46.9  0.0000149   Ni_input\n",
      "5 Tasmania              21.0  45.7  1.77        Ni_input\n",
      "6 Victoria              19.6  90.1  0.000140    Ni_input\n",
      "7 Western Australia (N)  3.02  8.24 0.00000155  Ni_input\n",
      "8 Western Australia (S)  1.79 11.2  0.142       Ni_input"
     ]
    }
   ],
   "source": [
    "Ni_input <- cell_input_timeseries %>% \n",
    "  select(cell_no, state, yday, Ni_input)\n",
    "\n",
    "(Ni_means <- Ni_input %>% \n",
    "  group_by(state) %>% \n",
    "  reframe(mean = mean(Ni_input, na.rm = T),\n",
    "          max = max(Ni_input, na.rm = T),\n",
    "          min = min(Ni_input, na.rm = T)) %>% \n",
    "  mutate(variable = \"Ni_input\"))"
   ],
   "id": "36c3434b-7b9e-4fb3-9ee6-b2d5f406780e"
  },
  {
   "cell_type": "markdown",
   "metadata": {},
   "source": [
    "Mean daily water velocity ranged from 1.65 in Queensland to 21.02 in Tasmania, with a mean across states of 8.29."
   ],
   "id": "5fa9e297-7921-44ed-bea1-dfea7dd9d62c"
  },
  {
   "cell_type": "code",
   "execution_count": null,
   "metadata": {
    "layout-align": "center"
   },
   "outputs": [
    {
     "output_type": "display_data",
     "metadata": {},
     "data": {}
    }
   ],
   "source": [
    "Ni_input_state <- Ni_input %>%\n",
    "  group_by(state, yday) %>% \n",
    "  reframe(value = mean(Ni_input, na.rm = T),\n",
    "          sd = sd(Ni_input, na.rm = T))\n",
    "\n",
    "(\n",
    "  p_input_state_av <- Ni_input_state %>% \n",
    "    ggplot(aes(x = yday, y = value, ymin = value-sd, ymax = value+sd, colour = state, fill = state)) +\n",
    "    geom_line(linewidth = 0.75) +\n",
    "    geom_ribbon(alpha = 0.35, linewidth = 0.25) +\n",
    "    facet_wrap(facets = vars(state), ncol = 2) +\n",
    "    # scale_y_continuous(breaks = seq(0, 40, 5), limits = c(10, 35)) +\n",
    "    scale_fill_brewer(palette = \"Dark2\") +\n",
    "    scale_color_brewer(palette = \"Dark2\") +\n",
    "    env_plot +\n",
    "    labs(x = \"Day of the year\", y = nitrate_lab)\n",
    ")"
   ],
   "id": "cell-fig-Ni-input"
  },
  {
   "cell_type": "code",
   "execution_count": null,
   "metadata": {
    "layout-align": "center"
   },
   "outputs": [
    {
     "output_type": "stream",
     "name": "stdout",
     "text": [
      "# A tibble: 8 × 5\n",
      "  state                  mean   max        min variable\n",
      "  <fct>                 <dbl> <dbl>      <dbl> <chr>   \n",
      "1 Northern Territory     2.36  4.65 1.21       Am_input\n",
      "2 Queensland             1.63  6.45 0.0000244  Am_input\n",
      "3 New South Wales        3.29  6.91 0.393      Am_input\n",
      "4 South Australia        2.66  6.42 0.00000652 Am_input\n",
      "5 Tasmania               2.11  9.06 0.00000695 Am_input\n",
      "6 Victoria               2.76 50.4  0.00000877 Am_input\n",
      "7 Western Australia (N)  1.94  3.79 0.0000357  Am_input\n",
      "8 Western Australia (S)  1.34  2.40 0.367      Am_input"
     ]
    }
   ],
   "source": [
    "Am_input <- cell_input_timeseries %>% \n",
    "  select(cell_no, state, yday, Am_input)\n",
    "\n",
    "(Am_means <- Am_input %>% \n",
    "  group_by(state) %>% \n",
    "  reframe(mean = mean(Am_input, na.rm = T),\n",
    "          max = max(Am_input, na.rm = T),\n",
    "          min = min(Am_input, na.rm = T)) %>% \n",
    "  mutate(variable = \"Am_input\"))"
   ],
   "id": "28102d61-7228-49e0-8097-1f01b4233dd4"
  },
  {
   "cell_type": "markdown",
   "metadata": {},
   "source": [
    "Mean daily water velocity ranged from 1.34 in Western Australia (S) to 3.29 in New South Wales, with a mean across states of 2.26."
   ],
   "id": "71ffb4cf-0398-45c7-8dad-0fec4e8ccfaa"
  },
  {
   "cell_type": "code",
   "execution_count": null,
   "metadata": {
    "layout-align": "center"
   },
   "outputs": [
    {
     "output_type": "display_data",
     "metadata": {},
     "data": {}
    }
   ],
   "source": [
    "Am_input_state <- Am_input %>%\n",
    "  group_by(state, yday) %>% \n",
    "  reframe(value = mean(Am_input, na.rm = T),\n",
    "          sd = sd(Am_input, na.rm = T))\n",
    "\n",
    "p_input_state_av %+% Am_input_state +\n",
    "  # scale_y_continuous(breaks = seq(30, 40, 0.5), limits = c(34, 36.5)) +\n",
    "  labs(x = \"Day of the year\", y = ammonium_lab)"
   ],
   "id": "cell-fig-Am-input"
  },
  {
   "cell_type": "markdown",
   "metadata": {},
   "source": [
    "## Sensitivity conditions"
   ],
   "id": "9d19e34f-2937-4bc0-b695-367ffb768936"
  },
  {
   "cell_type": "code",
   "execution_count": null,
   "metadata": {
    "layout-align": "center"
   },
   "outputs": [],
   "source": [
    "library(patchwork)\n",
    "\n",
    "culture_depths <- tar_read(culture_depths, store = spec_store)\n",
    "factors <- tar_read(factors, store = spec_store)\n",
    "\n",
    "state_input_timeseries <- list(\n",
    "  file.path(cell_data, \"state_input_timeseries_NTE.parquet\") %>% arrow::read_parquet(),\n",
    "  file.path(cell_data, \"state_input_timeseries_TAS.parquet\") %>% arrow::read_parquet(),\n",
    "  file.path(cell_data, \"state_input_timeseries_VIC.parquet\") %>% arrow::read_parquet(),\n",
    "  file.path(cell_data, \"state_input_timeseries_QLD.parquet\") %>% arrow::read_parquet(),\n",
    "  file.path(cell_data, \"state_input_timeseries_SAU.parquet\") %>% arrow::read_parquet(),\n",
    "  file.path(cell_data, \"state_input_timeseries_WAS.parquet\") %>% arrow::read_parquet(),\n",
    "  file.path(cell_data, \"state_input_timeseries_WAN.parquet\") %>% arrow::read_parquet(),\n",
    "  file.path(cell_data, \"state_input_timeseries_NSW.parquet\") %>% arrow::read_parquet()\n",
    ") %>% \n",
    "  bind_rows()\n",
    "\n",
    "sens_cond <- file.path(spec_data, \"sensitivity_conditions.parquet\") %>% \n",
    "  arrow::read_parquet()"
   ],
   "id": "a5161161-ba9a-4988-a5a3-16cb1bedef16"
  },
  {
   "cell_type": "markdown",
   "metadata": {},
   "source": [
    "Culture depths tested were 0.5, 2.5, 5, 10 m below the surface, with a\n",
    "\n",
    "Sensitivity runs started on the first of every month to cover annual variability, for 12 runs per year, with the same mean annual conditions looping from December to January. Sensitivity runs were conducted at culture depths of 0.5 m, 2 m, 3.5 m, and 5 m below the surface with a light attenuation coefficient of 0.65 (clear water). The canopy was always 2.5 m in height, and the total water column depth was always 50 m. Curves for temperature, surface irradiance, salinity, water velocity, nitrate and ammonium were constructed to capture “typical” conditions based on daily means of each state from 2019-2023. This resulted in two sensitivity curves for temperature (fig-state-temperature) and a single sensitivity curve for irradiance (fig-state-irradiance), water velocity (fig-state-water-velocity), salinity (fig-state-salinity), nitrate (fig-state-nitrate) and ammonium (fig-state-ammonium)."
   ],
   "id": "e8145133-0f20-47d9-b13e-c2b41a4e7c30"
  },
  {
   "cell_type": "code",
   "execution_count": null,
   "metadata": {
    "layout-align": "center"
   },
   "outputs": [],
   "source": [
    "p1 <- state_input_timeseries %>% \n",
    "  dplyr::select(state, yday, T_input_mean, T_input_sd) %>% \n",
    "  mutate(state = factor(state, levels = states_ord)) %>% \n",
    "  ggplot(aes(x = yday, y = T_input_mean, colour = state)) +\n",
    "  geom_line(linewidth = 0.75) +\n",
    "  scale_color_brewer(palette = \"Dark2\") +\n",
    "  labs(x = \"Day of the year\", y = expression(\"Temperature (\"*degree*\"C)\")) +\n",
    "  prettyplot +\n",
    "  theme(legend.position = \"none\")\n",
    "\n",
    "p2 <- sens_cond %>% \n",
    "  dplyr::filter(t <= 365) %>% \n",
    "  ggplot(aes(x = t, y = T_input, linetype = as.factor(T_level))) +\n",
    "  geom_line(linewidth = 0.75) +\n",
    "  labs(x = \"Day of the year\") +\n",
    "  prettyplot +\n",
    "  theme(legend.position = \"none\",\n",
    "        axis.title.y = element_blank(),\n",
    "        axis.text.y = element_blank(),\n",
    "        axis.ticks.y = element_blank())\n",
    "\n",
    "p1 + p2"
   ],
   "id": "cell-fig-state-temperature"
  },
  {
   "cell_type": "code",
   "execution_count": null,
   "metadata": {
    "layout-align": "center"
   },
   "outputs": [],
   "source": [
    "p1 <- state_input_timeseries %>% \n",
    "  dplyr::select(state, yday, I_input_mean, I_input_sd) %>% \n",
    "  mutate(state = factor(state, levels = states_ord)) %>% \n",
    "  ggplot(aes(x = yday, y = I_input_mean, colour = state)) +\n",
    "  geom_line(linewidth = 0.75) +\n",
    "  scale_color_brewer(palette = \"Dark2\") +\n",
    "  scale_y_continuous(breaks = seq(0, 1600, 150), limits = c(0, 650)) +\n",
    "  labs(x = \"Day of the year\", y = expression(\"Irradiance (photons m\"^-2*\" s\"^-1*\")\")) +\n",
    "  prettyplot +\n",
    "  theme(legend.position = \"none\")\n",
    "\n",
    "p2 <- sens_cond %>% \n",
    "  dplyr::filter(t <= 365 & T_level == 1) %>% \n",
    "  ggplot(aes(x = t, y = I_input)) +\n",
    "  geom_line(linewidth = 0.75) +\n",
    "  labs(x = \"Day of the year\") +\n",
    "  prettyplot +\n",
    "  theme(legend.position = \"none\",\n",
    "        axis.title.y = element_blank(),\n",
    "        axis.text.y = element_blank(),\n",
    "        axis.ticks.y = element_blank())\n",
    "\n",
    "p1 + p2"
   ],
   "id": "cell-fig-state-irradiance"
  },
  {
   "cell_type": "code",
   "execution_count": null,
   "metadata": {
    "layout-align": "center"
   },
   "outputs": [],
   "source": [
    "p1 <- state_input_timeseries %>% \n",
    "  dplyr::select(state, yday, UV_input_mean, UV_input_sd) %>% \n",
    "  mutate(state = factor(state, levels = states_ord)) %>% \n",
    "  ggplot(aes(x = yday, y = UV_input_mean, colour = state)) +\n",
    "  geom_line(linewidth = 0.75) +\n",
    "  scale_color_brewer(palette = \"Dark2\") +\n",
    "  prettyplot +\n",
    "  theme(legend.position = \"none\") +\n",
    "  scale_y_continuous(breaks = seq(0, 1, 0.2), limits = c(-0.01, 1)) +\n",
    "  labs(x = \"Day of the year\", y = expression(\"Water velocity (m s\"^-1*\")\"))\n",
    "\n",
    "p2 <- sens_cond %>% \n",
    "  dplyr::filter(t <= 365 & T_level == 1) %>% \n",
    "  ggplot(aes(x = t, y = U_input)) +\n",
    "  geom_line(linewidth = 0.75) +\n",
    "  labs(x = \"Day of the year\") +\n",
    "  prettyplot +\n",
    "  theme(legend.position = \"none\",\n",
    "        axis.title.y = element_blank(),\n",
    "        axis.text.y = element_blank(),\n",
    "        axis.ticks.y = element_blank())\n",
    "\n",
    "p1 + p2"
   ],
   "id": "cell-fig-state-water-velocity"
  },
  {
   "cell_type": "code",
   "execution_count": null,
   "metadata": {
    "layout-align": "center"
   },
   "outputs": [],
   "source": [
    "p1 <- state_input_timeseries %>% \n",
    "  dplyr::select(state, yday, S_input_mean, S_input_sd) %>% \n",
    "  mutate(state = factor(state, levels = states_ord)) %>% \n",
    "  ggplot(aes(x = yday, y = S_input_mean, colour = state)) +\n",
    "  geom_line(linewidth = 0.75) +\n",
    "  scale_color_brewer(palette = \"Dark2\") +\n",
    "  prettyplot +\n",
    "  theme(legend.position = \"none\") +\n",
    "  scale_y_continuous(breaks = seq(30, 40, 0.5), limits = c(34, 36.5)) +\n",
    "  labs(x = \"Day of the year\", y = expression(\"Salinity (g L\"^-1*\")\"))\n",
    "\n",
    "p2 <- sens_cond %>% \n",
    "  dplyr::filter(t <= 365 & T_level == 1) %>% \n",
    "  ggplot(aes(x = t, y = S_input)) +\n",
    "  geom_line(linewidth = 0.75) +\n",
    "  labs(x = \"Day of the year\") +\n",
    "  prettyplot +\n",
    "  theme(legend.position = \"none\",\n",
    "        axis.title.y = element_blank(),\n",
    "        axis.text.y = element_blank(),\n",
    "        axis.ticks.y = element_blank())\n",
    "\n",
    "p1 + p2"
   ],
   "id": "cell-fig-state-salinity"
  },
  {
   "cell_type": "code",
   "execution_count": null,
   "metadata": {
    "layout-align": "center"
   },
   "outputs": [
    {
     "output_type": "display_data",
     "metadata": {},
     "data": {}
    }
   ],
   "source": [
    "library(cowplot)\n",
    "\n",
    "p1 <- sens_cond %>% \n",
    "  dplyr::filter(t <= 365) %>% \n",
    "  ggplot(aes(x = t, y = T_input, linetype = as.factor(T_level))) +\n",
    "  geom_line(linewidth = 0.75) +\n",
    "  scale_y_continuous(breaks = seq(10, 35, 5), limits = c(10, 33)) +\n",
    "  labs(y = expression(\"Temperature (\"*degree*\"C)\")) +\n",
    "  prettyplot + \n",
    "  annotate(\"text\", x = -Inf, y = Inf, label = \"A\", hjust = 1.2, vjust = 1, size = 4, fontface = \"plain\") +\n",
    "  theme(legend.position = \"none\", axis.text.x = element_blank(), axis.ticks.x = element_blank(), axis.title.x = element_blank())\n",
    "\n",
    "p2 <- sens_cond %>% \n",
    "  dplyr::filter(t <= 365 & T_level == 1) %>% \n",
    "  ggplot(aes(x = t, y = I_input)) +\n",
    "  geom_line(linewidth = 0.75) +\n",
    "  scale_y_continuous(breaks = seq(0, 700, 100), limits = c(0, 610)) +\n",
    "  labs(y = expression(\"Irradiance (\"*mu*\"mol m\"^-2*\" s\"^-1*\")\")) +\n",
    "  prettyplot + \n",
    "  annotate(\"text\", x = -Inf, y = Inf, label = \"B\", hjust = 1.2, vjust = 1, size = 4, fontface = \"plain\") +\n",
    "  theme(legend.position = \"none\", axis.text.x = element_blank(), axis.ticks.x = element_blank(), axis.title.x = element_blank())\n",
    "\n",
    "p3 <- sens_cond %>% \n",
    "  dplyr::filter(t <= 365 & T_level == 1) %>% \n",
    "  ggplot(aes(x = t, y = U_input)) +\n",
    "  geom_line(linewidth = 0.75) +\n",
    "  scale_y_continuous(breaks = seq(0, 0.6, 0.1), limits = c(0, 0.55)) +\n",
    "  labs(y = expression(\"Water velocity (m\"^-1*\" s\"^-1*\")\")) +\n",
    "  prettyplot + \n",
    "  annotate(\"text\", x = -Inf, y = Inf, label = \"C\", hjust = 1.2, vjust = 1, size = 4, fontface = \"plain\") +\n",
    "  theme(legend.position = \"none\", axis.text.x = element_blank(), axis.ticks.x = element_blank(), axis.title.x = element_blank())\n",
    "\n",
    "p4 <- sens_cond %>% \n",
    "  dplyr::filter(t <= 365 & T_level == 1) %>% \n",
    "  ggplot(aes(x = t, y = S_input)) +\n",
    "  geom_line(linewidth = 0.75) +\n",
    "  scale_y_continuous(breaks = seq(34.5, 36.5, 0.2), limits = c(34.7, 35.3)) +\n",
    "  labs(y = expression(\"Salinity (g L\"^-1*\")\")) +\n",
    "  prettyplot + \n",
    "  annotate(\"text\", x = -Inf, y = Inf, label = \"D\", hjust = 1.2, vjust = 1, size = 4, fontface = \"plain\") +\n",
    "  theme(legend.position = \"none\", axis.text.x = element_blank(), axis.ticks.x = element_blank(), axis.title.x = element_blank())\n",
    "\n",
    "p5 <- sens_cond %>% \n",
    "  dplyr::filter(t <= 365 & T_level == 1) %>% \n",
    "  ggplot(aes(x = t, y = Ni_input)) +\n",
    "  geom_line(linewidth = 0.75) +\n",
    "  scale_y_continuous(breaks = seq(0, 60, 10), limits = c(0, 55)) +\n",
    "  labs(y = nitrate_lab) +\n",
    "  prettyplot + \n",
    "  annotate(\"text\", x = -Inf, y = Inf, label = \"E\", hjust = 1.2, vjust = 1, size = 4, fontface = \"plain\") +\n",
    "  theme(legend.position = \"none\", axis.title.x = element_blank())\n",
    "\n",
    "p6 <- sens_cond %>% \n",
    "  dplyr::filter(t <= 365 & T_level == 1) %>% \n",
    "  ggplot(aes(x = t, y = Am_input)) +\n",
    "  geom_line(linewidth = 0.75) +\n",
    "  scale_y_continuous(breaks = seq(0, 10, 1), limits = c(0, 6.25)) +\n",
    "  labs(y = ammonium_lab) +\n",
    "  prettyplot + \n",
    "  annotate(\"text\", x = -Inf, y = Inf, label = \"F\", hjust = 1.2, vjust = 1, size = 4, fontface = \"plain\") +\n",
    "  theme(legend.position = \"none\", axis.title.x = element_blank())\n",
    "\n",
    "plot_grid(\n",
    "  plot_grid(p1, p2, p3, p4, p5, p6, ncol = 2, align = \"hv\"),\n",
    "  ggdraw() + draw_label(\"Day of the year\", size = 12),\n",
    "  ncol = 1,\n",
    "  rel_heights = c(0.95, 0.05)  # Adjust these values to control spacing\n",
    ")"
   ],
   "id": "cell-fig-sens-altogether"
  },
  {
   "cell_type": "markdown",
   "metadata": {},
   "source": [
    "## Growth and bioremediation\n",
    "\n",
    "### Growth limitations"
   ],
   "id": "63779df3-5800-4c6d-a960-0c090433efa9"
  },
  {
   "cell_type": "code",
   "execution_count": null,
   "metadata": {
    "layout-align": "center"
   },
   "outputs": [
    {
     "output_type": "display_data",
     "metadata": {},
     "data": {
      "image/png": "[encoded data removed]"
     }
    }
   ],
   "source": [
    "d_top_PL <- tar_read(d_top_PL, store = cell_store)\n",
    "\n",
    "Ilim_cell <- list(\n",
    "  # file.path(cell_data, \"Ilim_cell_PL_NTE.parquet\") %>% arrow::read_parquet(),\n",
    "  # file.path(cell_data, \"Ilim_cell_PL_TAS.parquet\") %>% arrow::read_parquet(),\n",
    "  # file.path(cell_data, \"Ilim_cell_PL_VIC.parquet\") %>% arrow::read_parquet(),\n",
    "  # file.path(cell_data, \"Ilim_cell_PL_QLD.parquet\") %>% arrow::read_parquet(),\n",
    "  # file.path(cell_data, \"Ilim_cell_PL_SAU.parquet\") %>% arrow::read_parquet(),\n",
    "  # file.path(cell_data, \"Ilim_cell_PL_WAS.parquet\") %>% arrow::read_parquet(),\n",
    "  # file.path(cell_data, \"Ilim_cell_PL_WAN.parquet\") %>% arrow::read_parquet(),\n",
    "  file.path(cell_data, \"Ilim_cell_PL_NSW.parquet\") %>% arrow::read_parquet()\n",
    ") %>% \n",
    "  bind_rows() %>% \n",
    "  dplyr::select(-t)\n",
    "\n",
    "# Ilim_means <- Ilim_cell %>% \n",
    "#   group_by(state, depth, yday) %>% \n",
    "#   reframe(I_lim = mean(I_lim, na.rm = T))\n",
    "# \n",
    "# ggplot(Ilim_means, aes(x = yday, y = I_lim, colour = depth)) +\n",
    "#   geom_line(linewidth = 0.75) +\n",
    "#   facet_wrap(facets = vars(state)) +\n",
    "#   theme_classic()\n",
    "\n",
    "Ilim_means <- Ilim_cell %>% \n",
    "  group_by(state, depth) %>% \n",
    "  reframe(I_sd = sd(I_lim, na.rm = T),\n",
    "          I_lim = mean(I_lim, na.rm = T))\n",
    "\n",
    "ggplot(Ilim_means, aes(x = state, y = I_lim, fill = depth, ymin = I_lim-I_sd, ymax = I_lim+I_sd)) +\n",
    "  geom_col(colour = \"black\", position = position_dodge(), width = 1) +\n",
    "  geom_errorbar(position = position_dodge(width = 1), width = 0.5) +\n",
    "  theme_classic()"
   ],
   "id": "ee67aaba-3e0d-4a88-b784-bc64c539b00b"
  },
  {
   "cell_type": "code",
   "execution_count": null,
   "metadata": {
    "layout-align": "center"
   },
   "outputs": [],
   "source": [
    "Ilim_cell <- Ilim_cell %>% \n",
    "  dplyr::filter(depth == \"2.5\") %>% \n",
    "  dplyr::select(-c(irradiance, depth, state)) %>% \n",
    "  merge(cell_coords, by = \"cell_no\")\n",
    "\n",
    "# var_rast <- terra::rast(list(x = Ilim_cell$longitude, y = Ilim_cell$latitude, z = Ilim_cell$I_lim))\n",
    "# crs(var_rast) <- \"+proj=longlat +datum=WGS84 +ellps=WGS84 +towgs84=0,0,0\"))"
   ],
   "id": "7a28bb91-b20c-48af-a704-423e0bd51a81"
  },
  {
   "cell_type": "markdown",
   "metadata": {},
   "source": [
    "### Total growth and bioremediation\n",
    "\n",
    "# Results\n",
    "\n",
    "## Species parameterisation"
   ],
   "id": "5d57858b-9c22-4c74-b71d-5c5d12da19e6"
  },
  {
   "cell_type": "code",
   "execution_count": null,
   "metadata": {
    "layout-align": "center"
   },
   "outputs": [],
   "source": [
    "N_uptake <- file.path(spec_data, \"N_uptake.parquet\") %>% \n",
    "  read_parquet()\n",
    "\n",
    "ggplot(N_uptake, aes(x = uM, y = uptake_uM, linetype = form)) +\n",
    "  geom_line(linewidth = 0.75) +\n",
    "  labs(x = expression(\"Ambient concentration (\"*mu*\"M)\"), y = expression(\"Uptake rate (\"*mu*\"mol gDW\"^-1*\"d\"^-1*\")\")) +\n",
    "  scale_y_continuous(breaks = seq(0, 3.5, 0.05), limits = c(0, 0.30)) +\n",
    "  scale_x_continuous(breaks = seq(0, 30, 5), limits = c(0,25)) +\n",
    "  prettyplot + \n",
    "  theme(legend.position = \"none\",\n",
    "        aspect.ratio = 0.65,\n",
    "        text = element_text(family = \"sans\", size = 10, colour = \"black\"))"
   ],
   "id": "cell-fig-N-uptake"
  },
  {
   "cell_type": "code",
   "execution_count": null,
   "metadata": {
    "layout-align": "center"
   },
   "outputs": [],
   "source": [
    "T_response <- file.path(spec_data, \"T_response.parquet\") %>% \n",
    "  read_parquet() %>% \n",
    "  mutate(species = factor(species, levels = c(\"taxi\", \"arma\")))\n",
    "\n",
    "ggplot(T_response, aes(x = temp, y = Tlim, colour = species)) +\n",
    "  geom_line(linewidth = 0.75) +\n",
    "  labs(x = expression(\"Temperature (\"*degree*\"C)\"), y = \"Relative growth\") +\n",
    "  scale_y_continuous(breaks = seq(0, 1, 0.2), limits = c(0,1)) +\n",
    "  scale_x_continuous(breaks = seq(0, 40, 5), limits = c(0,35)) +\n",
    "  prettyplot + \n",
    "  theme(\n",
    "    legend.position = \"none\",\n",
    "    legend.title = element_blank(),\n",
    "    aspect.ratio = 0.65,\n",
    "    text = element_text(family = \"sans\", size = 10, colour = \"black\")\n",
    "    )"
   ],
   "id": "cell-fig-temperature-response"
  },
  {
   "cell_type": "code",
   "execution_count": null,
   "metadata": {
    "layout-align": "center"
   },
   "outputs": [],
   "source": [
    "I_response <- file.path(spec_data, \"I_response.parquet\") %>% \n",
    "  read_parquet() %>% \n",
    "  mutate(depth_m = as.factor(depth_m))\n",
    "\n",
    "ggplot(I_response, aes(x = light, y = Ilim, linetype = as.factor(depth_m))) +\n",
    "  geom_line(linewidth = 0.75) +\n",
    "  facet_wrap(facets = vars(species)) +\n",
    "  labs(x = expression(\"Surface light (PPFD)\"), y = \"Relative growth\") +\n",
    "  scale_y_continuous(breaks = seq(0, 1, 0.2), limits = c(0,1)) +\n",
    "  scale_linetype_manual(values = c(\"solid\", \"dashed\", \"dotdash\", \"dotted\")) +\n",
    "  prettyplot + \n",
    "  theme(\n",
    "    legend.position = \"none\",\n",
    "    aspect.ratio = 0.65,\n",
    "    text = element_text(family = \"sans\", size = 10, colour = \"black\"),\n",
    "    strip.text = element_blank()\n",
    "    )"
   ],
   "id": "cell-fig-light-response"
  },
  {
   "cell_type": "code",
   "execution_count": null,
   "metadata": {
    "layout-align": "center"
   },
   "outputs": [],
   "source": [
    "S_response <- file.path(spec_data, \"S_response.parquet\") %>% \n",
    "  read_parquet()\n",
    "\n",
    "ggplot(S_response, aes(x = sali, y = Slim)) +\n",
    "  geom_line(linewidth = 0.75) +\n",
    "  labs(x = expression(\"Salinity (g L\"^-1*\")\"), y = \"Relative growth\") +\n",
    "  scale_y_continuous(breaks = seq(0, 1, 0.2), limits = c(0,1)) +\n",
    "  scale_x_continuous(breaks = seq(0, 60, 5), limits = c(19,45)) +\n",
    "  prettyplot + \n",
    "  theme(\n",
    "    legend.position = \"none\",\n",
    "    aspect.ratio = 0.65,\n",
    "    text = element_text(family = \"sans\", size = 10, colour = \"black\")\n",
    "    )"
   ],
   "id": "cell-fig-salinity-response"
  },
  {
   "cell_type": "code",
   "execution_count": null,
   "metadata": {
    "layout-align": "center"
   },
   "outputs": [
    {
     "output_type": "stream",
     "name": "stderr",
     "text": [
      "Warning: Removed 24 rows containing missing values or values outside the scale range\n",
      "(`geom_line()`)."
     ]
    },
    {
     "output_type": "stream",
     "name": "stderr",
     "text": [
      "Warning: Removed 312 rows containing missing values or values outside the scale range\n",
      "(`geom_line()`)."
     ]
    },
    {
     "output_type": "stream",
     "name": "stderr",
     "text": [
      "Warning: Graphs cannot be horizontally aligned unless the axis parameter is\n",
      "set. Placing graphs unaligned."
     ]
    },
    {
     "output_type": "display_data",
     "metadata": {},
     "data": {}
    }
   ],
   "source": [
    "library(gridExtra)\n",
    "library(grid)\n",
    "\n",
    "N_uptake <- file.path(spec_data, \"N_uptake.parquet\") %>% \n",
    "  read_parquet()\n",
    "S_response <- file.path(spec_data, \"S_response.parquet\") %>% \n",
    "  read_parquet()\n",
    "I_response <- file.path(spec_data, \"I_response.parquet\") %>% \n",
    "  read_parquet() %>% \n",
    "  mutate(depth_m = as.factor(depth_m))\n",
    "T_response <- file.path(spec_data, \"T_response.parquet\") %>% \n",
    "  read_parquet() %>% \n",
    "  mutate(species = factor(species, levels = c(\"taxi\", \"arma\")))\n",
    "\n",
    "p1 <- ggplot(N_uptake, aes(x = uM, y = uptake_uM, linetype = form)) +\n",
    "  geom_line(linewidth = 0.75) +\n",
    "  labs(x = expression(\"Ambient concentration (\"*mu*\"M)\"), y = expression(\"Uptake rate (\"*mu*\"mol gDW\"^-1*\"d\"^-1*\")\")) +\n",
    "  scale_y_continuous(breaks = seq(0, 3.5, 0.05), limits = c(0, 0.30)) +\n",
    "  scale_x_continuous(breaks = seq(0, 30, 5), limits = c(0,25)) +\n",
    "  prettyplot + \n",
    "  theme(legend.position = \"none\",\n",
    "        aspect.ratio = 0.75,\n",
    "        text = element_text(family = \"sans\", size = 10, colour = \"black\"))\n",
    "\n",
    "p2 <- ggplot(T_response, aes(x = temp, y = Tlim, colour = species)) +\n",
    "  geom_line(linewidth = 0.75) +\n",
    "  labs(x = expression(\"Temperature (\"*degree*\"C)\"), y = \"Relative growth\") +\n",
    "  scale_y_continuous(breaks = seq(0, 1, 0.2), limits = c(0,1)) +\n",
    "  scale_x_continuous(breaks = seq(0, 40, 5), limits = c(0,35)) +\n",
    "  prettyplot + \n",
    "  theme(legend.position = \"none\",\n",
    "        legend.title = element_blank(),\n",
    "        aspect.ratio = 0.75,\n",
    "        text = element_text(family = \"sans\", size = 10, colour = \"black\"))\n",
    "\n",
    "p3 <- ggplot(I_response, aes(x = light, y = Ilim, linetype = as.factor(depth_m))) +\n",
    "  geom_line(linewidth = 0.75) +\n",
    "  facet_wrap(facets = vars(species)) +\n",
    "  labs(x = expression(\"Surface light (PPFD)\"), y = \"Relative growth\") +\n",
    "  scale_y_continuous(breaks = seq(0, 1, 0.2), limits = c(0,1)) +\n",
    "  scale_linetype_manual(values = c(\"solid\", \"dashed\", \"dotdash\", \"dotted\")) +\n",
    "  prettyplot + \n",
    "  theme(legend.position = \"none\",\n",
    "        aspect.ratio = 0.75,\n",
    "        text = element_text(family = \"sans\", size = 10, colour = \"black\"),\n",
    "        strip.text = element_blank())\n",
    "\n",
    "p4 <- ggplot(S_response, aes(x = sali, y = Slim)) +\n",
    "  geom_line(linewidth = 0.75) +\n",
    "  labs(x = expression(\"Salinity (g L\"^-1*\")\"), y = \"Relative growth\") +\n",
    "  scale_y_continuous(breaks = seq(0, 1, 0.2), limits = c(0,1)) +\n",
    "  scale_x_continuous(breaks = seq(0, 60, 5), limits = c(19,45)) +\n",
    "  prettyplot + \n",
    "  theme(legend.position = \"none\",\n",
    "        aspect.ratio = 0.75,\n",
    "        text = element_text(family = \"sans\", size = 10, colour = \"black\"))\n",
    "\n",
    "p1 <- p1 + annotate(\"text\", x = -Inf, y = Inf, label = \"A\", hjust = 1.5, vjust = 1, size = 4)\n",
    "p2 <- p2 + annotate(\"text\", x = -Inf, y = Inf, label = \"B\", hjust = 1.5, vjust = 1, size = 4)\n",
    "p3 <- p3 + annotate(\"text\", x = -Inf, y = Inf, label = \"C\", hjust = 1.5, vjust = 1, size = 4)\n",
    "p4 <- p4 + annotate(\"text\", x = -Inf, y = Inf, label = \"D\", hjust = 1.5, vjust = 1, size = 4)\n",
    "\n",
    "plot_grid(\n",
    "  plot_grid(p1, p2, p3, p4, ncol = 2, align = \"hv\"),\n",
    "  ggdraw() + draw_label(\"Common X-Axis Title\", size = 12),\n",
    "  ncol = 1,\n",
    "  rel_heights = c(0.95, 0.05)  # Adjust these values to control spacing\n",
    ")"
   ],
   "id": "cell-fig-all-responses"
  },
  {
   "cell_type": "markdown",
   "metadata": {},
   "source": [
    "### Parameter sensitivity"
   ],
   "id": "a82c979e-bcf4-4228-8a66-2ed3f2d8fb2e"
  },
  {
   "cell_type": "code",
   "execution_count": null,
   "metadata": {
    "layout-align": "center"
   },
   "outputs": [
    {
     "output_type": "stream",
     "name": "stdout",
     "text": [
      " [1] \"V_am\"  \"K_am\"  \"C_ni\"  \"Q_min\" \"Q_max\" \"mu\"    \"D_ve\"  \"T_opt\" \"T_min\"\n",
      "[10] \"T_max\""
     ]
    },
    {
     "output_type": "stream",
     "name": "stdout",
     "text": [
      " [1] \"M_ni\"  \"K_c\"   \"a_cs\"  \"S_opt\" \"S_min\" \"S_max\" \"h_a\"   \"h_b\"   \"h_c\"  \n",
      "[10] \"h_max\" \"DWWW\"  \"I_o\"  "
     ]
    },
    {
     "output_type": "display_data",
     "metadata": {},
     "data": {}
    }
   ],
   "source": [
    "sens_arma <- file.path(spec_data, \"sensitivity_arma_calc_combTU.parquet\") %>% \n",
    "  read_parquet() #%>% \n",
    "  # dplyr::filter(!param %in% c(\"M_am\", \"C_am\", \"M_ot\", \"C_ot\"))\n",
    "exlude <- unique(sens_arma$param[abs(sens_arma$sens) < 0.01]) %>% as.character\n",
    "sens_arma <- sens_arma %>% \n",
    "  dplyr::filter(!param %in% c(exlude, \"M_am\", \"C_am\", \"M_ot\", \"C_ot\"))\n",
    "sens_arma$param <- droplevels(sens_arma$param)\n",
    "\n",
    "levels(sens_arma$param)"
   ],
   "id": "cell-fig-armata-sensitivity-plot"
  },
  {
   "cell_type": "code",
   "execution_count": null,
   "metadata": {
    "layout-align": "center"
   },
   "outputs": [
    {
     "output_type": "stream",
     "name": "stdout",
     "text": [
      " [1] \"V_am\"  \"K_am\"  \"C_ni\"  \"Q_min\" \"Q_max\" \"K_c\"   \"mu\"    \"D_ve\"  \"T_opt\"\n",
      "[10] \"T_min\" \"T_max\""
     ]
    },
    {
     "output_type": "stream",
     "name": "stdout",
     "text": [
      " [1] NA      \"M_ni\"  \"a_cs\"  \"S_opt\" \"S_min\" \"S_max\" \"h_a\"   \"h_b\"   \"h_c\"  \n",
      "[10] \"h_max\" \"DWWW\"  \"I_o\"  "
     ]
    },
    {
     "output_type": "stream",
     "name": "stderr",
     "text": [
      "Warning: Removed 3 rows containing missing values or values outside the scale range\n",
      "(`geom_col()`)."
     ]
    },
    {
     "output_type": "display_data",
     "metadata": {},
     "data": {}
    }
   ],
   "source": [
    "sens_taxi <- file.path(spec_data, \"sensitivity_taxi_calc_combTU.parquet\") %>% \n",
    "  read_parquet()\n",
    "exlude <- unique(sens_taxi$param[abs(sens_taxi$sens) < 0.01]) %>% as.character\n",
    "sens_taxi <- sens_taxi %>% \n",
    "  dplyr::filter(!param %in% c(exlude, \"M_am\", \"C_am\", \"M_ot\", \"C_ot\"))\n",
    "sens_taxi$param <- droplevels(sens_taxi$param)\n",
    "\n",
    "levels(sens_taxi$param)"
   ],
   "id": "cell-fig-taxiformis-sensitivity-plot"
  },
  {
   "cell_type": "markdown",
   "metadata": {},
   "source": [
    "## Growth and bioremediation\n",
    "\n",
    "### Temperature limitation"
   ],
   "id": "539dc28d-7d5a-40ff-88ec-1d30c1c0a946"
  },
  {
   "cell_type": "code",
   "execution_count": null,
   "metadata": {
    "layout-align": "center"
   },
   "outputs": [],
   "source": [
    "Tlim_cell <- list(\n",
    "  # file.path(runs_data, \"Ilim_cell_PL_NTE.parquet\") %>% arrow::read_parquet(),\n",
    "  # file.path(runs_data, \"Ilim_cell_PL_TAS.parquet\") %>% arrow::read_parquet(),\n",
    "  # file.path(runs_data, \"Ilim_cell_PL_VIC.parquet\") %>% arrow::read_parquet(),\n",
    "  # file.path(runs_data, \"Ilim_cell_PL_QLD.parquet\") %>% arrow::read_parquet(),\n",
    "  # file.path(runs_data, \"Ilim_cell_PL_SAU.parquet\") %>% arrow::read_parquet(),\n",
    "  # file.path(runs_data, \"Ilim_cell_PL_WAS.parquet\") %>% arrow::read_parquet(),\n",
    "  # file.path(runs_data, \"Ilim_cell_PL_WAN.parquet\") %>% arrow::read_parquet(),\n",
    "  file.path(runs_data, \"Tlim_cell_PL_NSW.parquet\") %>% arrow::read_parquet()\n",
    ") %>% \n",
    "  bind_rows() %>% \n",
    "  merge(cell_coords, by = c(\"state\", \"cell_no\")) %>% \n",
    "  mutate(consec_0.75 = NA,\n",
    "         consec_0.50 = NA)"
   ],
   "id": "7c3cf5ff-5ed5-46ac-a11b-cf28d43b1bef"
  },
  {
   "cell_type": "markdown",
   "metadata": {},
   "source": [
    "By contrast, South Australia and southern Western Australia showed weak seasonal variation in temperature limitation but much higher spatial variation. The only area that appeared to have ideal temperature conditions for *A. armata* growth year-round was the area between Esperance and Albany in southern Western Australia (Figure 20).\n",
    "\n",
    "Figure 20: The maximum number of days where Tlim $\\geq$ 0.75 for *A. armata* in a typical year.\n",
    "\n",
    "Figure 21: Limitation of relative growth by temperature for *A. armata* across all cells in a typical year (mean $\\pm$ SD).\n",
    "\n",
    "Within the model, the only difference between the two *Asparagopsis* species was their temperature response. Despite its higher temperature tolerance (see Figure 16) *A. taxiformis* seemed overall more limited by temperature than *A. armata* across Australia (Figure 23). The tropical species was mostly unable to grow below 33˚S on the west coast and 35˚S, and there was only a very small area off the central coast of Western Australia just outside of Shark Bay where temperature conditions were ideal for *A. taxiformis* year-round.\n",
    "\n",
    "Figure 22: The maximum number of days where Tlim $\\geq$ 0.75 for *A. taxiformis* in a typical year.\n",
    "\n",
    "Figure 23: Limitation of relative growth by temperature for *A. taxiformis* across all cells in a typical year (mean $\\pm$ SD).\n",
    "\n",
    "### Light limitation"
   ],
   "id": "8919d90b-f323-43de-bcba-4385bc802e8d"
  },
  {
   "cell_type": "code",
   "execution_count": null,
   "metadata": {
    "layout-align": "center"
   },
   "outputs": [],
   "source": [
    "Ilim_cell <- list(\n",
    "  file.path(runs_data, \"Ilim_cell_PL_NTE.parquet\") %>% arrow::read_parquet(),\n",
    "  file.path(runs_data, \"Ilim_cell_PL_TAS.parquet\") %>% arrow::read_parquet(),\n",
    "  file.path(runs_data, \"Ilim_cell_PL_VIC.parquet\") %>% arrow::read_parquet(),\n",
    "  file.path(runs_data, \"Ilim_cell_PL_QLD.parquet\") %>% arrow::read_parquet(),\n",
    "  file.path(runs_data, \"Ilim_cell_PL_SAU.parquet\") %>% arrow::read_parquet(),\n",
    "  file.path(runs_data, \"Ilim_cell_PL_WAS.parquet\") %>% arrow::read_parquet(),\n",
    "  file.path(runs_data, \"Ilim_cell_PL_WAN.parquet\") %>% arrow::read_parquet(),\n",
    "  file.path(runs_data, \"Ilim_cell_PL_NSW.parquet\") %>% arrow::read_parquet()\n",
    ") %>% \n",
    "  bind_rows()"
   ],
   "id": "63c32df4-a5d9-4c74-9bce-7600c7351863"
  },
  {
   "cell_type": "markdown",
   "metadata": {},
   "source": [
    "Figure 28: The maximum number of days where Ilim $\\geq$ 0.75 for *Asparagopsis* spp. in a typical year.\n",
    "\n",
    "Figure 29: Limitation of relative growth by changes in seasonal light availability for *Asparagopsis* spp. across all cells grown at 0.5 m depth in a typical year (mean $\\pm$ SD).\n",
    "\n",
    "### Total growth and bioremediation\n",
    "\n",
    "After running the model in all cells, there were 1034 cells (of 11677) where the run failed due to missing environmental data or the cell being too shallow to accommodate the 5.5 m canopy. Overall, nitrogen removal by *A. armata* and *A. taxiformis* was less than other species.\n",
    "\n",
    "Nitrogen removal by *A. armata* was fairly consistent across a typical year in Tasmania with a mean of 204.0 g m-2 of farmed area, Victoria with a mean of 256.0 g m-2 of farmed area, and South Australia with a mean of 327.0 g m-2 of farmed area (Figure 34). The highest total removal across the year was also in South Australia. Nitrogen removal was most temporally variable in New South Wales, ranging from 8.5 g m-2 of farmed area to 540.0 g m-2 of farmed area, peaking when the simulated macroalgae was out-planted in August.\n",
    "\n",
    "Figure 34: Total nitrogen removed (mean $\\pm$ SD) by *A. armata* planted in different months across all cell in each state.\n",
    "\n",
    "Nitrogen removal in South Australia was relatively spatially consistent, while the east coast of Australia showed greater variability (Figure 35). Some areas of Victoria on the borders of New South Wales and South Australia showed nitrogen removal comparable to the neighbouring state, likely reflecting the influence of data from the different reference stations. The potential “hotspot” area between Esperance and Albany in southern Western Australia, identified in temperature limitation maps above (see Figure 20), did not show higher nitrogen removal rates than the rest of the state. Similarly, Tasmania showed moderate nitrogen removal rates year-round (), despite the species being relatively limited by temperature from May to November (see Figure 21).\n",
    "\n",
    "Figure 35: Southern half of Australia showing the total nitrogen removed by *A. armata* planted in March (top) or August (bottom).\n",
    "\n",
    "Nitrogen removal by *A. taxiformis* was highest in New South Wales, with a mean nitrogen removal rate of 304 g m-2 of farmed area in each month of outplanting (Figure 36). Nitrogen removal was less consistent across the year in South Australia (peaking at a mean of 158 g m-2 of farmed area in February), northern Western Australia (peaking at 143 g m-2 of farm in June) and the Northern Territory (peaking at 142 g m-2 of farmed area in June).\n",
    "\n",
    "Figure 36: Total nitrogen removed (mean $\\pm$ SD) by *A. taxiformis* planted in different months across all cell in each state.\n",
    "\n",
    "Total nitrogen removal by *A. taxiformis* was relatively spatially consistent in most states except for Queensland, where the southern coast showed higher removal rates (Figure 37). This was likely driven by ambient nitrogen data, particularly the differences between reference stations (Figures 8 and 9). By contrast, the spatial variability seen in the north-west of the country (Figure 37) is more likely driven by temperature and light variability, given that there are fewer reference stations and outfall points (Figure 6).\n",
    "\n",
    "Figure 37: Total nitrogen removed by *A. taxiformis* planted in May in the Northern Territory and northern Western Australia (top), and in October in New South Wales and Queensland (bottom).\n",
    "\n",
    "## Growth scenarios\n",
    "\n",
    "When compared with the base scenario, all species were able to remove the most nitrogen in the fish farm scenario, almost certainly because of the increase in ammonium concentration from (very low) background levels (Figure 42). *Asparagopsis armata* and *A. taxiformis* consistently removed more nitrogen in the fish farm scenario.\n",
    "\n",
    "Differences in nitrogen removed by *Asparagopsis* were minimal in the estuary mouth scenario across all states (ranging from -2.1% to +2.5% of base). Similarly, in the shallow bay scenario, *Asparagopsis* was able to remove from 0.4 to 9.5$\\times$ more nitrogen. The deep water scenario showed mostly negative but relatively small changes from the base removal, with changes ranging from -36% removal by *A. taxiformis* in New South Wales to +16.2% removed by *A. armata* in northern Western Australia.\n",
    "\n",
    "Figure 42: Nitrogen removal for different scenarios compared to the base scenario. Colours show the different scenarios as fish farm (purple), deep water (green), estuary mouth (orange) and shallow bay (pink).\n",
    "\n",
    "# Discussion\n",
    "\n",
    "This study demonstrates that seaweed aquaculture has significant bioremediation potential across Australia, with scenario modelling suggesting that *Asparagopsis* species can be effective at removing excess nitrogen from the environment. Across a range of conditions, these species showed nitrogen uptake potential that varied by region and season. Our model tested different pollution contexts, including marine aquaculture waste and estuarine runoff, highlighting the ability of seaweed cultivation to mitigate nutrient pollution.\n",
    "\n",
    "Our analysis highlighted variability in bioremediation potential among different macroalgae species under varying environmental conditions across Australia. The local availability of nitrogen, specifically ammonium and nitrate, emerged as the primary driver of this variability. Nitrate, generally in very low concentrations, is the predominant form of nitrogen in Australian coastal waters, which can be considered as oligotrophic (e.g. Chen et al., 2020; Pritchard et al., 2001; Twomey et al., 2007; Wild-Allen et al., 2010). This poses a clear challenge for the use of macroalgae for bioremediation in Australia. While all species studied showed higher uptake efficiency of ammonium, the low ambient levels of this compound limit their overall nitrogen uptake. Anthropogenic nutrient inputs, such as those from fish farms and sewage treatment outfalls, can create high nitrogen environments conducive to effective macroalgae cultivation and therefore bioremediation. The highest mean concentration of nitrate reported here from available data was 3.9 µM, and the fish farm scenario almost doubled this value (7.4 µM). While this is expected within Australian waters, it is still very low in a global context. For example, in Chile, mean coastal nitrate concentrations near salmon farms range from 3.2 µM in summer to 22.1 µM in winter (Varela et al., 2018).\n",
    "\n",
    "All species studied here demonstrated a preference for ammonium uptake over nitrate, with *Asparagopsis armata* and *A. taxiformis* showing the highest uptake efficiency of ammonium. However, in the context of bioremediation, a species’ ability to take advantage of surges in nutrient concentrations is perhaps more important than its absolute uptake rate. By contrast, *Asparagopsis*, has a constant nitrate uptake rate which was minimally impacted by changes in nitrate concentrations. It is worth nothing that minimal seasonal variation in nutrient concentration was included in the present study. However, seasonal trends in ammonium and nitrate concentrations are often observed in coastal waters due to natural process (e.g. phytoplankton growth) and anthropogenic inputs (e.g. urban runoff from rainfall events).\n",
    "\n",
    "Temperature played a secondary role in influencing nitrogen uptake efficiency, generally reflecting the natural geographic ranges of the species. *Asparagopsis armata* showed the potential for year-round growth (indicating year-round nitrogen uptake) in cooler regions of Australia, reflecting its temperate to subtropical range and wide temperature tolerance. *Asparagopsis taxiformis* showed more restricted temperature ranges, limiting their bioremediation potential to specific regions and seasons.\n",
    "\n",
    "Light-related parameters did not appear to significantly influence the nitrogen uptake of any macroalgae species, possibly driven by the low resolution in the available light attenuation data. Given the similar light responses among species and the consistent surface irradiance among all regions, all species were only modelled as growing at a depth of 0.5 m and in uniformly clear water. This uniformity in light response and growth depth simplified the model, ensuring that light availability did not confound the results. There is, however, a clear need for accurate site-specific light attenuation data to assess the impact of depth on macroalgae growth, as light is crucial for photosynthesis and growth. Smart et al (2022) used a laboratory setting to examine the nitrogen uptake kinetics of four kelp species under different ammonium concentrations. The nitrogen uptake rate of all species varied seasonally, increasing with higher temperatures and light availability.\n",
    "\n",
    "*Asparagopsis* species are currently the most commercially valuable for cultivation than the other species studied here due to their use in reducing methane emissions from livestock. However, modelling revealed that, despite the high nitrogen tissue content of *Asparagopsis* spp., these species are significantly less efficient in nitrogen uptake. This inefficiency is likely due to their lower rates of nitrate uptake compared to the other species combined with Australia’s low nitrate waters, their high nitrogen tissue requirements, and their more narrow temperature tolerance. These assumptions, however, are largely based on research conducted in regions outside Australia (e.g. Torres et al., 2021; Zanolla et al., 2019). More Australian local-scale studies are necessary to better understand the nitrogen uptake kinetics of *Asparagopsis* spp. in Australian coastal waters.\n",
    "\n",
    "The study’s methodology, which integrated reference station and outfall data, provided a broad overview of spatial and temporal variation in nutrient concentrations in Australian coastal waters, However, the actual impact of outfalls and other nutrient sources on nitrogen concentration is more complex and site-specific, often stratified by depth and influenced by local hydrodynamic conditions (Pritchard et al., 2001). This suggests that detailed knowledge of ammonium and nitrate concentrations at specific sites, along with species-specific uptake kinetics, is crucial for accurately assessing the bioremediation potential of macroalgae in different coastal environments. Furthermore, individual site conditions could provide valuable insights for growers on the suitability of particular species for cultivation. For example, while the present model captured some thalli degradation due to high water velocities, it did not include breakage off the lines due to high swells or storm events, which would have a greater impact on more fragile seaweeds like *Asparagopsis* spp.\n",
    "\n",
    "Given *Asparagopsis* is the only genus studied here that currently has significant commercial value, future research should focus on identifying ‘hotspots’, considering temperature thresholds, time of year and placement, where *Asparagopsis* can thrive. Additionally, understanding the nitrogen uptake rate of the *Asparagopsis* gametophyte life stage, rather than assuming it is identical to the tetrasporophyte life stage, is essential for advancing open-water *Asparagopsis* culture for bioremediation.\n",
    "\n",
    "Overall, this study provides valuable insights into the bioremediation potential of native Australian macroalgae species, highlighting the importance of nitrogen availability and temperature in shaping their effectiveness. The findings highlight the need for species selection and consideration of site-specific conditions when integrating seaweed aquaculture for bioremediation in Australian waters. As the industry explores seaweed farming’s role in coastal management, future research should focus on refining spatial models, incorporating finer-scale environmental data, and evaluating economic feasibility. With the right approach, seaweed farming could reduce water pollution, support sustainable aquaculture, and enhance coastal ecosystem health. This study lays the groundwork for guiding site selection and key considerations in expanding seaweed farming across Australia.\n",
    "\n",
    "# Acknowledgments\n",
    "\n",
    "The project authors would like to thank Jens Knauer and Margie Rule of the for their input and expertise on \\*Asparagopsis\\*\\* husbandry, and Professor Rocky de Nys for his feedback on study methodology. Data for this study were sourced from Australia’s , which is enabled by the . Data were also sourced from the . Work for is undertaken for the Marine and Coastal Hub, a collaborative partnership supported through funding from the Australian Government’s .\n",
    "\n",
    "# References"
   ],
   "id": "b2b22522-9ad7-4858-872f-6bd11b87a918"
  }
 ],
 "nbformat": 4,
 "nbformat_minor": 5,
 "metadata": {}
}
